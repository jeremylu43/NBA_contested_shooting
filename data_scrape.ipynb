{
 "cells": [
  {
   "cell_type": "code",
   "execution_count": 100,
   "id": "c7f96fef-8482-4c35-8602-166a982657dd",
   "metadata": {},
   "outputs": [],
   "source": [
    "import pandas as pd\n",
    "import time\n",
    "import numpy as np\n",
    "import nba_api as nbp\n",
    "from nba_api.stats.endpoints import leaguedashplayerstats, playerdashptshots\n",
    "import requests, os"
   ]
  },
  {
   "cell_type": "code",
   "execution_count": 2,
   "id": "566c4494-0baa-4176-bc41-f63b0f23916f",
   "metadata": {},
   "outputs": [],
   "source": [
    "league_stats = leaguedashplayerstats.LeagueDashPlayerStats().get_data_frames()[0]"
   ]
  },
  {
   "cell_type": "code",
   "execution_count": 3,
   "id": "7742ee80-94d1-4392-bf1e-9504e57facdb",
   "metadata": {},
   "outputs": [],
   "source": [
    "#72 game season\n",
    "league_stats = league_stats.loc[league_stats['GP'] > 50.4] #70% of games\n",
    "league_stats = league_stats.loc[league_stats['FG3M'] >= 72] #70% of games"
   ]
  },
  {
   "cell_type": "code",
   "execution_count": 4,
   "id": "f52ee7cd-7dbe-43ba-b798-edaa2b7c6ae8",
   "metadata": {},
   "outputs": [],
   "source": [
    "pids = league_stats['PLAYER_ID'].to_numpy()\n",
    "tids = league_stats['TEAM_ID'].to_numpy()\n",
    "names = league_stats['PLAYER_NAME'].to_numpy()\n",
    "player_list = [list(i) for i in zip(pids, tids, names)]"
   ]
  },
  {
   "cell_type": "code",
   "execution_count": null,
   "id": "1befcb0c-2d73-480c-b19e-980457841562",
   "metadata": {},
   "outputs": [
    {
     "name": "stderr",
     "output_type": "stream",
     "text": [
      "<ipython-input-5-807c0aacf5b6>:8: RuntimeWarning: invalid value encountered in longlong_scalars\n",
      "  shooting_dict[name] = [c_make, c_att, c_make/c_att, o_make, o_att, o_make/o_att]\n"
     ]
    }
   ],
   "source": [
    "shooting_dict = {}\n",
    "for p_id, t_id, name in player_list:\n",
    "    shooting_df = playerdashptshots.PlayerDashPtShots(t_id, p_id).get_data_frames()[4]\n",
    "    c_make = shooting_df['FG3M'][0] + shooting_df['FG3M'][1]\n",
    "    c_att = shooting_df['FG3A'][0] + shooting_df['FG3A'][1]\n",
    "    o_make = shooting_df['FG3M'][2] + shooting_df['FG3M'][3]\n",
    "    o_att = shooting_df['FG3A'][2] + shooting_df['FG3A'][3]\n",
    "    shooting_dict[name] = [c_make, c_att, c_make/c_att, o_make, o_att, o_make/o_att]\n",
    "    time.sleep(.600)"
   ]
  },
  {
   "cell_type": "code",
   "execution_count": 10,
   "id": "cb8cf581-8487-4e75-9c47-33c00bf5e2b3",
   "metadata": {},
   "outputs": [],
   "source": [
    "full_shooting_df = pd.DataFrame.from_dict(shooting_dict).transpose()\n",
    "full_shooting_df.columns = [\"C FG3M\", 'C FG3A', 'C FG3%', \"O FG3M\", 'O FG3A', 'O FG3%']"
   ]
  },
  {
   "cell_type": "code",
   "execution_count": 92,
   "id": "1a2ba983-2d28-40d1-be69-587ae6baaa2d",
   "metadata": {},
   "outputs": [],
   "source": [
    "full_shooting_df.to_csv(\"contested_shooting_data.csv\")"
   ]
  },
  {
   "cell_type": "code",
   "execution_count": 88,
   "id": "2743a4dc-f040-4622-b666-efb54fba2991",
   "metadata": {},
   "outputs": [
    {
     "data": {
      "text/plain": [
       "0.294513523624833"
      ]
     },
     "execution_count": 88,
     "metadata": {},
     "output_type": "execute_result"
    }
   ],
   "source": [
    "np.mean(full_shooting_df['C FG3%']) #0.294513523624833"
   ]
  },
  {
   "cell_type": "code",
   "execution_count": 90,
   "id": "346192f7-9743-40c6-8a8f-70b5bb7ae500",
   "metadata": {},
   "outputs": [
    {
     "data": {
      "text/plain": [
       "0.39410248685329824"
      ]
     },
     "execution_count": 90,
     "metadata": {},
     "output_type": "execute_result"
    }
   ],
   "source": [
    "np.mean(full_shooting_df['O FG3%']) #0.39410248685329824"
   ]
  },
  {
   "cell_type": "code",
   "execution_count": 81,
   "id": "5177ff43-9fdc-4ff6-b4e5-3172e463ec79",
   "metadata": {},
   "outputs": [],
   "source": [
    "games = []\n",
    "games.append([league_stats.loc[league_stats['PLAYER_NAME'] == name]['GP'].to_list()[0] for name in full_shooting_df.index.values])\n",
    "games = games[0]"
   ]
  },
  {
   "cell_type": "code",
   "execution_count": 94,
   "id": "524b5801-d0ff-450a-90cf-41c5cb25d6fc",
   "metadata": {},
   "outputs": [],
   "source": [
    "filtered_df = full_shooting_df[full_shooting_df['C FG3A'] >= games] #at least 1 attempted contested 3 per game\n",
    "filtered_df.to_csv(\"filtered_contested_shooting_data.csv\")"
   ]
  },
  {
   "cell_type": "code",
   "execution_count": 120,
   "id": "e383eb24-4947-4bc2-892d-099431fa2d86",
   "metadata": {},
   "outputs": [
    {
     "name": "stderr",
     "output_type": "stream",
     "text": [
      "<>:11: SyntaxWarning: \"is not\" with a literal. Did you mean \"!=\"?\n",
      "<>:11: SyntaxWarning: \"is not\" with a literal. Did you mean \"!=\"?\n",
      "<ipython-input-120-8ac271eaa9ed>:11: SyntaxWarning: \"is not\" with a literal. Did you mean \"!=\"?\n",
      "  if not os.path.isdir(folder) and folder is not \"\":\n"
     ]
    }
   ],
   "source": [
    "def getHeadshotById(lastName, firstName, folder=None, fileName=None):\n",
    "    \n",
    "    if not fileName:\n",
    "        fileName = str(firstName) + str(lastName) + \".png\"\n",
    "\n",
    "    if not folder:\n",
    "        folder = \"\"\n",
    "    \n",
    "    url = \"https://nba-players.herokuapp.com/players/\" + str(lastName) + \"/\" + str(firstName)\n",
    "    \n",
    "    if not os.path.isdir(folder) and folder is not \"\":\n",
    "        os.mkdir(folder)\n",
    "        \n",
    "    r = requests.get(url, allow_redirects=True)\n",
    "    if r.ok:\n",
    "        open(folder + fileName, 'wb').write(r.content)\n",
    "    else:\n",
    "        print(\"Error: Not a valid id. Please specify a valid id.\")"
   ]
  },
  {
   "cell_type": "code",
   "execution_count": 121,
   "id": "d453bede-372d-42ba-8fd4-ec243576d2a4",
   "metadata": {},
   "outputs": [],
   "source": [
    "for name in filtered_df.index.values:\n",
    "    first = str.split(name)[0]\n",
    "    last = str.split(name)[1]\n",
    "    getHeadshotById(last, first, folder=\"headshots/\")\n",
    "    #time.sleep(.600)"
   ]
  }
 ],
 "metadata": {
  "kernelspec": {
   "display_name": "Python 3",
   "language": "python",
   "name": "python3"
  },
  "language_info": {
   "codemirror_mode": {
    "name": "ipython",
    "version": 3
   },
   "file_extension": ".py",
   "mimetype": "text/x-python",
   "name": "python",
   "nbconvert_exporter": "python",
   "pygments_lexer": "ipython3",
   "version": "3.9.3"
  }
 },
 "nbformat": 4,
 "nbformat_minor": 5
}
